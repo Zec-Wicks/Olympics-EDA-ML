{
 "cells": [
  {
   "cell_type": "markdown",
   "metadata": {},
   "source": [
    "# Olympic Data Analysis and Predictive Machine Learning\n",
    "\n",
    "This Notebook is exploring a dataset of Olympic data (Sourced from [The Guardian - Kaggle](https://www.kaggle.com/datasets/the-guardian/olympic-games)) and aims to first Explore the data and then build a predictive model to determine if it is possible to predict the results of a future Olympic event using past data."
   ]
  },
  {
   "cell_type": "markdown",
   "metadata": {},
   "source": [
    "## Import Libraries"
   ]
  },
  {
   "cell_type": "code",
   "execution_count": 2,
   "metadata": {},
   "outputs": [],
   "source": [
    "import pandas as pd"
   ]
  },
  {
   "cell_type": "markdown",
   "metadata": {},
   "source": [
    "## Data Loading and Preparation"
   ]
  },
  {
   "cell_type": "code",
   "execution_count": 4,
   "metadata": {},
   "outputs": [],
   "source": [
    "def DataLoader(dataDirectory):\n",
    "    dictPath = dataDirectory + \"dictionary.csv\"\n",
    "    summerPath = dataDirectory + \"summer.csv\"\n",
    "    winterPath = dataDirectory + \"winter.csv\"\n",
    "\n",
    "    olympicDict = pd.read_csv(dictPath)\n",
    "    summerData = pd.read_csv(summerPath)\n",
    "    winterData = pd.read_csv(winterPath)\n",
    "\n",
    "    return olympicDict, summerData, winterData\n",
    "\n",
    "olympicDict, summerData, winterData = DataLoader(\"Data/\")"
   ]
  },
  {
   "cell_type": "code",
   "execution_count": null,
   "metadata": {},
   "outputs": [],
   "source": [
    "def dataAggregation(data):\n",
    "    # Data Aggregation Code Here\n",
    "\n",
    "\n",
    "    return medalCounts, overallResults"
   ]
  },
  {
   "cell_type": "markdown",
   "metadata": {},
   "source": [
    "## Data Exploration"
   ]
  },
  {
   "cell_type": "code",
   "execution_count": null,
   "metadata": {},
   "outputs": [],
   "source": []
  },
  {
   "cell_type": "markdown",
   "metadata": {},
   "source": [
    "## Machine Learning"
   ]
  },
  {
   "cell_type": "code",
   "execution_count": null,
   "metadata": {},
   "outputs": [],
   "source": []
  }
 ],
 "metadata": {
  "kernelspec": {
   "display_name": "Python 3",
   "language": "python",
   "name": "python3"
  },
  "language_info": {
   "codemirror_mode": {
    "name": "ipython",
    "version": 3
   },
   "file_extension": ".py",
   "mimetype": "text/x-python",
   "name": "python",
   "nbconvert_exporter": "python",
   "pygments_lexer": "ipython3",
   "version": "3.12.4"
  }
 },
 "nbformat": 4,
 "nbformat_minor": 2
}
